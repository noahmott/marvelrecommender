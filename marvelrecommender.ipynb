{
  "nbformat": 4,
  "nbformat_minor": 0,
  "metadata": {
    "colab": {
      "provenance": []
    },
    "kernelspec": {
      "name": "python3",
      "display_name": "Python 3"
    },
    "language_info": {
      "name": "python"
    }
  },
  "cells": [
    {
      "cell_type": "code",
      "source": [
        "import pandas as pd\n",
        "import networkx as nx\n",
        "\n",
        "superheropowers=pd.read_csv('/content/drive/MyDrive/marvelproject/superheroes_power_matrix.csv')\n",
        "heronet=pd.read_csv('/content/drive/MyDrive/marvelproject/hero-network.csv')\n",
        "alignment=pd.read_csv('/content/drive/MyDrive/marvelproject/marvel_characters_info.csv')"
      ],
      "metadata": {
        "id": "sQ4jJG1TAjN2"
      },
      "execution_count": 1,
      "outputs": []
    },
    {
      "cell_type": "code",
      "source": [
        "#construct a small dataframe with just hero name and alignment and capitalize\n",
        "alignment=alignment[['Name', 'Alignment']]\n",
        "alignment['Name']=[x.upper() for x in alignment['Name']]\n",
        "superheropowers['Name']=[x.upper() for x in superheropowers['Name']]\n",
        "\n",
        "#clean the heronet dataframe\n",
        "heronet['hero1'] = heronet['hero1'].str.split('/').str[0]\n",
        "heronet['hero2'] = heronet['hero2'].str.split('/').str[0]\n",
        "\n",
        "#get a Marvel only dataset. we can do this because our hero net is only\n",
        "#marvel characters \n",
        "hero1=set(heronet['hero1'])\n",
        "hero2=set(heronet['hero2'])\n",
        "heroset=list(hero1.union(hero2))\n",
        "marvelchars=superheropowers[superheropowers['Name'].isin(heroset)]\n",
        "\n",
        "#merge our dataframes and set our alighment to good guys\n",
        "marvelchars=marvelchars.reset_index(drop=True)\n",
        "marvelheros=marvelchars.merge(alignment, how='inner', left_on='Name', right_on='Name')\n",
        "goodguys=marvelheros[marvelheros['Alignment']=='good']\n",
        "goodguys=goodguys.drop_duplicates()\n",
        "goodguys=goodguys.reset_index(drop=True)"
      ],
      "metadata": {
        "colab": {
          "base_uri": "https://localhost:8080/"
        },
        "id": "wuE1Lz5TAkWp",
        "outputId": "1e6327ad-c573-4955-c4eb-c089e75aa3eb"
      },
      "execution_count": 2,
      "outputs": [
        {
          "output_type": "stream",
          "name": "stderr",
          "text": [
            "<ipython-input-2-04a158f0afc4>:3: SettingWithCopyWarning: \n",
            "A value is trying to be set on a copy of a slice from a DataFrame.\n",
            "Try using .loc[row_indexer,col_indexer] = value instead\n",
            "\n",
            "See the caveats in the documentation: https://pandas.pydata.org/pandas-docs/stable/user_guide/indexing.html#returning-a-view-versus-a-copy\n",
            "  alignment['Name']=[x.upper() for x in alignment['Name']]\n"
          ]
        }
      ]
    },
    {
      "cell_type": "code",
      "source": [
        "from sklearn.metrics.pairwise import cosine_similarity\n",
        "#we drop unnecessary columns for training purposes and reset our index\n",
        "trainer=goodguys.drop(['Name', 'Alignment'], axis=1)\n",
        "trainer=trainer.reset_index(drop=True)\n",
        "cosine_sim = cosine_similarity(trainer)"
      ],
      "metadata": {
        "id": "t0dw4ioUAvYl"
      },
      "execution_count": 3,
      "outputs": []
    },
    {
      "cell_type": "code",
      "source": [
        "#we are only concerned with the network of our avengers team so we center on their social networks\n",
        "#hawkeye is listed as hawk in this dataset\n",
        "avengers=['captain america', 'ant-man', 'iron man', 'black widow', 'thor', 'spider-man', 'hulk', 'hawk', 'wasp', 'Wolverine']\n",
        "avengers=[x.upper() for x in avengers]\n",
        "avengernet = heronet[(heronet['hero1'].isin(avengers)) | (heronet['hero2'].isin(avengers))]\n",
        "G=nx.from_pandas_edgelist(avengernet, source='hero1', target='hero2')"
      ],
      "metadata": {
        "id": "YZn3FkG8A4P1"
      },
      "execution_count": 4,
      "outputs": []
    },
    {
      "cell_type": "code",
      "source": [
        "#we get our index for SPIDER-MAN\n",
        "index1=goodguys.index[goodguys['Name']=='SPIDER-MAN'].tolist()[0]\n",
        "#we calculate the cosine similarities of other heroes with SPIDER-MAN and sort\n",
        "similar_char = list(enumerate(cosine_sim[index1]))\n",
        "similar_char.sort(key=lambda x:x[1], reverse= True)\n",
        "#we don't need SPIDER-MAN to compare with himself so we skip him.\n",
        "sorted_score = similar_char[1:]\n",
        "\n",
        "#Now we construct a dataframe with the heroes and their similarity scores\n",
        "potentials=[]\n",
        "score=[]\n",
        "i = 0\n",
        "for item in sorted_score:\n",
        "  cosscore=item[1]\n",
        "  char_name=goodguys[goodguys.index==item[0]]['Name'].values[0]\n",
        "  potentials.append(char_name)\n",
        "  score.append(cosscore)\n",
        "#we will only center on the 10 highest similarity scores\n",
        "  i = i+1\n",
        "  if i > 10:\n",
        "      break\n",
        "dfconstruct=pd.DataFrame({'potential name':potentials, 'cos_score':score})"
      ],
      "metadata": {
        "id": "G46wqzZnA7lp"
      },
      "execution_count": 5,
      "outputs": []
    },
    {
      "cell_type": "code",
      "source": [
        "#calculate centrality and put into a dataframe\n",
        "centralities1=nx.closeness_centrality(G)\n",
        "centdf=pd.DataFrame(centralities1.items(), columns=['Name', 'Closeness_Centrality'])\n",
        "#ensure the recommendations from centralities are in our list of similar heroes\n",
        "recommended1=centdf[centdf['Name'].isin(potentials)]\n",
        "#we also want to exclude our avengers already on the team\n",
        "recommended1=recommended1[~recommended1['Name'].isin(avengers)]\n",
        "#construct a sorted dataframe and join it onto our similarities dataframe\n",
        "sortedrecs=recommended1.sort_values(by='Closeness_Centrality', ascending=False)\n",
        "recommendationdf=sortedrecs.merge(dfconstruct, how='inner', left_on='Name', right_on='potential name')\n",
        "#create an aggregate score and drop unnecessary columns\n",
        "recommendationdf['comboscore']=recommendationdf['Closeness_Centrality']*recommendationdf['cos_score']\n",
        "recommendationdf=recommendationdf.sort_values(by='comboscore', ascending=False)\n",
        "recommendationdf=recommendationdf[['Name', 'Closeness_Centrality', 'cos_score', 'comboscore']]"
      ],
      "metadata": {
        "id": "6htUbQewA_6S"
      },
      "execution_count": 6,
      "outputs": []
    },
    {
      "cell_type": "code",
      "source": [
        "recommendationdf"
      ],
      "metadata": {
        "colab": {
          "base_uri": "https://localhost:8080/",
          "height": 332
        },
        "id": "urIzmAWsBIVr",
        "outputId": "5298b24f-0e50-43d2-cf46-3b15671bbf09"
      },
      "execution_count": 7,
      "outputs": [
        {
          "output_type": "execute_result",
          "data": {
            "text/plain": [
              "              Name  Closeness_Centrality  cos_score  comboscore\n",
              "0            BEAST              0.500628   0.717137    0.359019\n",
              "3           GAMORA              0.500628   0.620174    0.310476\n",
              "6            FERAL              0.456146   0.670820    0.305992\n",
              "7          ARACHNE              0.439124   0.645497    0.283453\n",
              "1  CAPTAIN BRITAIN              0.500628   0.565685    0.283198\n",
              "2        SASQUATCH              0.500628   0.547723    0.274205\n",
              "4        SHANG-CHI              0.495036   0.547723    0.271142\n",
              "8           HYBRID              0.376498   0.715097    0.269233\n",
              "5       BATTLESTAR              0.485989   0.547723    0.266187"
            ],
            "text/html": [
              "\n",
              "  <div id=\"df-3c68ddf4-aafe-4d7d-b527-f8a87fc74427\">\n",
              "    <div class=\"colab-df-container\">\n",
              "      <div>\n",
              "<style scoped>\n",
              "    .dataframe tbody tr th:only-of-type {\n",
              "        vertical-align: middle;\n",
              "    }\n",
              "\n",
              "    .dataframe tbody tr th {\n",
              "        vertical-align: top;\n",
              "    }\n",
              "\n",
              "    .dataframe thead th {\n",
              "        text-align: right;\n",
              "    }\n",
              "</style>\n",
              "<table border=\"1\" class=\"dataframe\">\n",
              "  <thead>\n",
              "    <tr style=\"text-align: right;\">\n",
              "      <th></th>\n",
              "      <th>Name</th>\n",
              "      <th>Closeness_Centrality</th>\n",
              "      <th>cos_score</th>\n",
              "      <th>comboscore</th>\n",
              "    </tr>\n",
              "  </thead>\n",
              "  <tbody>\n",
              "    <tr>\n",
              "      <th>0</th>\n",
              "      <td>BEAST</td>\n",
              "      <td>0.500628</td>\n",
              "      <td>0.717137</td>\n",
              "      <td>0.359019</td>\n",
              "    </tr>\n",
              "    <tr>\n",
              "      <th>3</th>\n",
              "      <td>GAMORA</td>\n",
              "      <td>0.500628</td>\n",
              "      <td>0.620174</td>\n",
              "      <td>0.310476</td>\n",
              "    </tr>\n",
              "    <tr>\n",
              "      <th>6</th>\n",
              "      <td>FERAL</td>\n",
              "      <td>0.456146</td>\n",
              "      <td>0.670820</td>\n",
              "      <td>0.305992</td>\n",
              "    </tr>\n",
              "    <tr>\n",
              "      <th>7</th>\n",
              "      <td>ARACHNE</td>\n",
              "      <td>0.439124</td>\n",
              "      <td>0.645497</td>\n",
              "      <td>0.283453</td>\n",
              "    </tr>\n",
              "    <tr>\n",
              "      <th>1</th>\n",
              "      <td>CAPTAIN BRITAIN</td>\n",
              "      <td>0.500628</td>\n",
              "      <td>0.565685</td>\n",
              "      <td>0.283198</td>\n",
              "    </tr>\n",
              "    <tr>\n",
              "      <th>2</th>\n",
              "      <td>SASQUATCH</td>\n",
              "      <td>0.500628</td>\n",
              "      <td>0.547723</td>\n",
              "      <td>0.274205</td>\n",
              "    </tr>\n",
              "    <tr>\n",
              "      <th>4</th>\n",
              "      <td>SHANG-CHI</td>\n",
              "      <td>0.495036</td>\n",
              "      <td>0.547723</td>\n",
              "      <td>0.271142</td>\n",
              "    </tr>\n",
              "    <tr>\n",
              "      <th>8</th>\n",
              "      <td>HYBRID</td>\n",
              "      <td>0.376498</td>\n",
              "      <td>0.715097</td>\n",
              "      <td>0.269233</td>\n",
              "    </tr>\n",
              "    <tr>\n",
              "      <th>5</th>\n",
              "      <td>BATTLESTAR</td>\n",
              "      <td>0.485989</td>\n",
              "      <td>0.547723</td>\n",
              "      <td>0.266187</td>\n",
              "    </tr>\n",
              "  </tbody>\n",
              "</table>\n",
              "</div>\n",
              "      <button class=\"colab-df-convert\" onclick=\"convertToInteractive('df-3c68ddf4-aafe-4d7d-b527-f8a87fc74427')\"\n",
              "              title=\"Convert this dataframe to an interactive table.\"\n",
              "              style=\"display:none;\">\n",
              "        \n",
              "  <svg xmlns=\"http://www.w3.org/2000/svg\" height=\"24px\"viewBox=\"0 0 24 24\"\n",
              "       width=\"24px\">\n",
              "    <path d=\"M0 0h24v24H0V0z\" fill=\"none\"/>\n",
              "    <path d=\"M18.56 5.44l.94 2.06.94-2.06 2.06-.94-2.06-.94-.94-2.06-.94 2.06-2.06.94zm-11 1L8.5 8.5l.94-2.06 2.06-.94-2.06-.94L8.5 2.5l-.94 2.06-2.06.94zm10 10l.94 2.06.94-2.06 2.06-.94-2.06-.94-.94-2.06-.94 2.06-2.06.94z\"/><path d=\"M17.41 7.96l-1.37-1.37c-.4-.4-.92-.59-1.43-.59-.52 0-1.04.2-1.43.59L10.3 9.45l-7.72 7.72c-.78.78-.78 2.05 0 2.83L4 21.41c.39.39.9.59 1.41.59.51 0 1.02-.2 1.41-.59l7.78-7.78 2.81-2.81c.8-.78.8-2.07 0-2.86zM5.41 20L4 18.59l7.72-7.72 1.47 1.35L5.41 20z\"/>\n",
              "  </svg>\n",
              "      </button>\n",
              "      \n",
              "  <style>\n",
              "    .colab-df-container {\n",
              "      display:flex;\n",
              "      flex-wrap:wrap;\n",
              "      gap: 12px;\n",
              "    }\n",
              "\n",
              "    .colab-df-convert {\n",
              "      background-color: #E8F0FE;\n",
              "      border: none;\n",
              "      border-radius: 50%;\n",
              "      cursor: pointer;\n",
              "      display: none;\n",
              "      fill: #1967D2;\n",
              "      height: 32px;\n",
              "      padding: 0 0 0 0;\n",
              "      width: 32px;\n",
              "    }\n",
              "\n",
              "    .colab-df-convert:hover {\n",
              "      background-color: #E2EBFA;\n",
              "      box-shadow: 0px 1px 2px rgba(60, 64, 67, 0.3), 0px 1px 3px 1px rgba(60, 64, 67, 0.15);\n",
              "      fill: #174EA6;\n",
              "    }\n",
              "\n",
              "    [theme=dark] .colab-df-convert {\n",
              "      background-color: #3B4455;\n",
              "      fill: #D2E3FC;\n",
              "    }\n",
              "\n",
              "    [theme=dark] .colab-df-convert:hover {\n",
              "      background-color: #434B5C;\n",
              "      box-shadow: 0px 1px 3px 1px rgba(0, 0, 0, 0.15);\n",
              "      filter: drop-shadow(0px 1px 2px rgba(0, 0, 0, 0.3));\n",
              "      fill: #FFFFFF;\n",
              "    }\n",
              "  </style>\n",
              "\n",
              "      <script>\n",
              "        const buttonEl =\n",
              "          document.querySelector('#df-3c68ddf4-aafe-4d7d-b527-f8a87fc74427 button.colab-df-convert');\n",
              "        buttonEl.style.display =\n",
              "          google.colab.kernel.accessAllowed ? 'block' : 'none';\n",
              "\n",
              "        async function convertToInteractive(key) {\n",
              "          const element = document.querySelector('#df-3c68ddf4-aafe-4d7d-b527-f8a87fc74427');\n",
              "          const dataTable =\n",
              "            await google.colab.kernel.invokeFunction('convertToInteractive',\n",
              "                                                     [key], {});\n",
              "          if (!dataTable) return;\n",
              "\n",
              "          const docLinkHtml = 'Like what you see? Visit the ' +\n",
              "            '<a target=\"_blank\" href=https://colab.research.google.com/notebooks/data_table.ipynb>data table notebook</a>'\n",
              "            + ' to learn more about interactive tables.';\n",
              "          element.innerHTML = '';\n",
              "          dataTable['output_type'] = 'display_data';\n",
              "          await google.colab.output.renderOutput(dataTable, element);\n",
              "          const docLink = document.createElement('div');\n",
              "          docLink.innerHTML = docLinkHtml;\n",
              "          element.appendChild(docLink);\n",
              "        }\n",
              "      </script>\n",
              "    </div>\n",
              "  </div>\n",
              "  "
            ]
          },
          "metadata": {},
          "execution_count": 7
        }
      ]
    }
  ]
}